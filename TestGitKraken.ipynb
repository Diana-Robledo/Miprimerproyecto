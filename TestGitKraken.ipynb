{
 "cells": [
  {
   "cell_type": "markdown",
   "metadata": {},
   "source": [
    "### Presentación"
   ]
  },
  {
   "cell_type": "markdown",
   "metadata": {},
   "source": [
    "- <font color = green> **Nombre**: </font> Diana Elena Robledo Pineda\n",
    "- <font color = purple> Profesión: </font> Estudiante\n",
    "- <font color = orange> Edad: </font> 20 años\n",
    "- <font color = blue> Pasatiempo: </font> leer, dormir, salir con mis amigas\n",
    "- <font color = red> Educación: </font> **Instituto Tecnológico Superior de Occidente**"
   ]
  },
  {
   "cell_type": "markdown",
   "metadata": {},
   "source": [
    "**Ejemplo foto:**\n",
    "        <img src=\"https://upload.wikimedia.org/wikipedia/commons/e/e7/Diana_the_Huntress_-_Guillaume_Seignac.jpg\" width=\"150px\" height=\"50px\" />"
   ]
  },
  {
   "cell_type": "markdown",
   "metadata": {},
   "source": [
    "<img src=\"https://scontent-dfw5-1.xx.fbcdn.net/v/t1.0-9/27971669_1757214730989594_3003699978959343649_n.jpg?_nc_cat=0&oh=0834f67cf1ed01c98f2d68e8bf1864e4&oe=5C35AF6B\" width=\"150px\" height=\"50px\" />"
   ]
  },
  {
   "cell_type": "code",
   "execution_count": null,
   "metadata": {},
   "outputs": [],
   "source": []
  }
 ],
 "metadata": {
  "kernelspec": {
   "display_name": "Python 3",
   "language": "python",
   "name": "python3"
  },
  "language_info": {
   "codemirror_mode": {
    "name": "ipython",
    "version": 3
   },
   "file_extension": ".py",
   "mimetype": "text/x-python",
   "name": "python",
   "nbconvert_exporter": "python",
   "pygments_lexer": "ipython3",
   "version": "3.6.5"
  }
 },
 "nbformat": 4,
 "nbformat_minor": 2
}
